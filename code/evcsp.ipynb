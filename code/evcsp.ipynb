{
 "cells": [
  {
   "cell_type": "code",
   "execution_count": 3,
   "id": "figured-paintball",
   "metadata": {},
   "outputs": [],
   "source": [
    "import numpy as np\n",
    "import pandas as pd\n",
    "import matplotlib.pyplot as plt"
   ]
  },
  {
   "cell_type": "code",
   "execution_count": 4,
   "id": "provincial-dress",
   "metadata": {},
   "outputs": [],
   "source": [
    "def get_distance_matrix(pop_data,type='l1'):\n",
    "    '''\n",
    "    :param pop_data: n entries of row_id,col_id,grid_population\n",
    "    :param type: distance type, l1, l2, ..\n",
    "    :return: n * n distance matrix\n",
    "    '''\n",
    "    n = pop_data.shape[0]\n",
    "    dist = np.zeros((n,n))\n",
    "    for i in range(n):\n",
    "        for j in range(i+1,n):\n",
    "            if type == 'l1':\n",
    "                dist[i,j] = int(abs(pop_data.x[i]-pop_data.x[j])/0.0083) + \\\n",
    "                            int(abs(pop_data.y[i]-pop_data.y[j])/0.00833)\n",
    "            else:\n",
    "                dist[i,j] = np.sqrt((int(abs(pop_data.x[i]-pop_data.x[j])/0.0083))**2 + \n",
    "                                    (int(abs(pop_data.y[i]-pop_data.y[j])/0.00833))**2)                \n",
    "    dist = dist + np.transpose(dist)\n",
    "\n",
    "    return dist"
   ]
  },
  {
   "cell_type": "code",
   "execution_count": 5,
   "id": "lightweight-metadata",
   "metadata": {},
   "outputs": [],
   "source": [
    "def cal_sat_delta_nearest(pop,i,selected_ids,dist,theta=1,lda=1,delta=10):\n",
    "    tmp_dist = sorted(dist[i,selected_ids])\n",
    "    sat = 0\n",
    "    for _ in range(len(selected_ids)):\n",
    "        if tmp_dist[_]<=delta:\n",
    "            sat +=  np.exp(-tmp_dist[_] / lda) * pop[i] * (theta**(_))\n",
    "    return sat\n",
    "\n",
    "def cal_gain_delta_nearest(pop,gid,selected_ids,dist,theta=1,lda=1,delta=10):\n",
    "    '''\n",
    "    :param pop: a list of n grid population data\n",
    "    :param gid: grid id\n",
    "    :param selected_ids: selected ids\n",
    "    :param dist: distance matrix\n",
    "    :param theta: turning parameter\n",
    "    :return:\n",
    "    '''\n",
    "    inc_gain = 0\n",
    "    n = len(pop)\n",
    "    if len(selected_ids) == 0:\n",
    "        for i in range(n):\n",
    "            # if gid within range delta, calculate gain\n",
    "            if dist[i,gid] <= delta:\n",
    "                inc_gain += np.exp(-dist[i, gid] / lda) * pop[i]\n",
    "            # otherwise gain unchanged\n",
    "            else:\n",
    "                inc_gain += 0\n",
    "    else:\n",
    "        for i in range(n):\n",
    "            \n",
    "            # if gid with range delta :\n",
    "            if dist[i,gid] <= delta:\n",
    "                # find the location of gid \n",
    "                inc_gain += cal_sat_delta_nearest(pop,i,selected_ids+[gid],dist,theta,lda,delta)- \\\n",
    "                cal_sat_delta_nearest(pop,i,selected_ids,dist,theta,lda,delta)\n",
    "            # otherwise inc = 0:\n",
    "            else:\n",
    "                inc_gain += 0\n",
    "    return inc_gain"
   ]
  },
  {
   "cell_type": "code",
   "execution_count": 6,
   "id": "nutritional-thumbnail",
   "metadata": {},
   "outputs": [],
   "source": [
    "def cal_gain_nearest(pop,gid,selected_ids,dist,lda):\n",
    "    '''\n",
    "    :param pop: a list of n grid population data\n",
    "    :param gid: grid id\n",
    "    :param selected_ids: selected ids\n",
    "    :param dist: distance matrix\n",
    "    :param theta: turning parameter\n",
    "    :return:\n",
    "    '''\n",
    "    inc_gain = 0\n",
    "    n = len(pop)\n",
    "    if len(selected_ids) == 0:\n",
    "        for i in range(n):\n",
    "            inc_gain += np.exp(-dist[i, gid] / lda) * pop[i]\n",
    "    else:\n",
    "        for i in range(n):\n",
    "            tmp_dist = min(dist[i,selected_ids])\n",
    "            if dist[i,gid] < tmp_dist:\n",
    "                inc_gain += (np.exp(-dist[i,gid]/lda) - np.exp(-tmp_dist/lda)) * pop[i]\n",
    "    return inc_gain"
   ]
  },
  {
   "cell_type": "code",
   "execution_count": 7,
   "id": "personalized-mother",
   "metadata": {},
   "outputs": [],
   "source": [
    "def greedy_selection(k,dist,pop,theta=1,lda=1,delta = 10):\n",
    "    '''\n",
    "    :param k: number of sensors available\n",
    "    :param dist: distance matrix\n",
    "    :param pop: population data\n",
    "    :param theta: tuning parameter\n",
    "    :return:\n",
    "    selected ids\n",
    "    '''\n",
    "    selected_ids = []\n",
    "    n = len(pop)\n",
    "    for i in range(k):\n",
    "        tmp_gain = 0\n",
    "        tmp_id = 0\n",
    "        for gid in range(n):\n",
    "            if gid not in selected_ids:\n",
    "                inc_gain = cal_gain_delta_nearest(pop,gid,selected_ids,dist,theta,lda,delta)\n",
    "                if inc_gain >tmp_gain:\n",
    "                    tmp_gain = inc_gain\n",
    "                    tmp_id = gid\n",
    "        selected_ids.append(tmp_id)\n",
    "    return selected_ids"
   ]
  },
  {
   "cell_type": "code",
   "execution_count": 8,
   "id": "difficult-rates",
   "metadata": {},
   "outputs": [],
   "source": [
    "# benchmark 1: random selection\n",
    "import random\n",
    "def random_selection(k,pop):\n",
    "    n = len(pop)\n",
    "    selected_ids = random.sample(range(n), k)\n",
    "    return selected_ids\n",
    "\n",
    "# benchmark 2: top-k pop selection\n",
    "def top_k_selection(k,pop):\n",
    "    return sorted(range(len(pop)), key=lambda i: pop[i])[-k:]"
   ]
  },
  {
   "cell_type": "code",
   "execution_count": 9,
   "id": "ordinary-screen",
   "metadata": {},
   "outputs": [],
   "source": [
    "# load data and calculate distance matrix\n",
    "pop_data = pd.read_csv(\"sz_pop.csv\")\n",
    "dist = get_distance_matrix(pop_data)"
   ]
  },
  {
   "cell_type": "code",
   "execution_count": 16,
   "id": "reflected-thomson",
   "metadata": {},
   "outputs": [
    {
     "data": {
      "image/png": "[encoded data removed]",
      "text/plain": [
       "<Figure size 432x288 with 1 Axes>"
      ]
     },
     "metadata": {
      "needs_background": "light"
     },
     "output_type": "display_data"
    },
    {
     "data": {
      "image/png": "[encoded data removed]",
      "text/plain": [
       "<Figure size 432x288 with 1 Axes>"
      ]
     },
     "metadata": {
      "needs_background": "light"
     },
     "output_type": "display_data"
    }
   ],
   "source": [
    "# generate the greedy selection results\n",
    "ks = range(1,41)\n",
    "sat1 = []\n",
    "sat2 = []\n",
    "sat3 = []\n",
    "theta = 0.2\n",
    "lda = 1\n",
    "delta = 10\n",
    "\n",
    "selected_ids = greedy_selection(40,dist,pop_data['pop'],theta=0.2,lda=1,delta=10)"
   ]
  },
  {
   "cell_type": "code",
   "execution_count": 28,
   "id": "several-kennedy",
   "metadata": {},
   "outputs": [
    {
     "name": "stdout",
     "output_type": "stream",
     "text": [
      "[2161, 2232, 2164, 2291, 2206, 2418, 1942, 2275, 2104, 2210, 2289, 209, 2250, 497, 2186, 1970, 126, 2109, 2207, 653, 570, 2316, 99, 1470, 1662, 2189, 1945, 266, 2107, 253, 630, 2244, 1941, 2159, 658, 2208, 2417, 473, 60, 2326]\n"
     ]
    }
   ],
   "source": [
    "print(selected_ids)"
   ]
  },
  {
   "cell_type": "code",
   "execution_count": 22,
   "id": "mighty-handling",
   "metadata": {},
   "outputs": [
    {
     "data": {
      "image/png": "[encoded data removed]",
      "text/plain": [
       "<Figure size 432x288 with 1 Axes>"
      ]
     },
     "metadata": {
      "needs_background": "light"
     },
     "output_type": "display_data"
    }
   ],
   "source": [
    "# generate a plot of k VS reward\n",
    "sat1 = []\n",
    "sat2 = []\n",
    "sat3 = []\n",
    "\n",
    "for k in ks:\n",
    "    sat_1 = 0\n",
    "    selected_1 = selected_ids[:k]\n",
    "    for i in range(len(pop_data['pop'])):\n",
    "        sat_1 += cal_sat_delta_nearest(pop_data['pop'],i,selected_1,dist,theta,lda,delta)\n",
    "    sat1.append(sat_1)\n",
    "\n",
    "    selected_2 = random_selection(k,pop_data['pop'])\n",
    "    sat_2 = 0\n",
    "    for i in range(len(pop_data['pop'])):\n",
    "        sat_2 += cal_sat_delta_nearest(pop_data['pop'],i,selected_2,dist,theta,lda,delta)\n",
    "    sat2.append(sat_2)\n",
    "\n",
    "    selected_3 = top_k_selection(k,pop_data['pop'])\n",
    "    sat_3 = 0\n",
    "    for i in range(len(pop_data['pop'])):\n",
    "        sat_3 += cal_sat_delta_nearest(pop_data['pop'],i,selected_3,dist,theta,lda,delta)\n",
    "    sat3.append(sat_3)\n",
    "\n",
    "plt.plot([0]+list(ks), [0]+sat1, label = \"greedy\")\n",
    "plt.plot([0]+list(ks), [0]+sat2, label = \"random\")\n",
    "plt.plot([0]+list(ks), [0]+sat3, label = \"topk\")\n",
    "plt.legend()\n",
    "plt.xlabel('k')\n",
    "plt.ylabel('satisfaction')\n",
    "#plt.savefig('benchmark.pdf')\n",
    "plt.grid(True)\n",
    "plt.savefig('benchmark_grid.pdf')\n",
    "#plt.show()\n"
   ]
  },
  {
   "cell_type": "code",
   "execution_count": 14,
   "id": "chief-trademark",
   "metadata": {},
   "outputs": [
    {
     "data": {
      "text/plain": [
       "3.729718009407557"
      ]
     },
     "execution_count": 14,
     "metadata": {},
     "output_type": "execute_result"
    }
   ],
   "source": [
    "sat1[39]/sat2[39]"
   ]
  },
  {
   "cell_type": "code",
   "execution_count": 15,
   "id": "refined-cotton",
   "metadata": {},
   "outputs": [
    {
     "data": {
      "text/plain": [
       "1.1072243988503012"
      ]
     },
     "execution_count": 15,
     "metadata": {},
     "output_type": "execute_result"
    }
   ],
   "source": [
    "sat1[39]/sat3[39]"
   ]
  },
  {
   "cell_type": "code",
   "execution_count": null,
   "id": "lesbian-disabled",
   "metadata": {},
   "outputs": [],
   "source": []
  }
 ],
 "metadata": {
  "kernelspec": {
   "display_name": "base",
   "language": "python",
   "name": "base"
  },
  "language_info": {
   "codemirror_mode": {
    "name": "ipython",
    "version": 3
   },
   "file_extension": ".py",
   "mimetype": "text/x-python",
   "name": "python",
   "nbconvert_exporter": "python",
   "pygments_lexer": "ipython3",
   "version": "3.8.5"
  }
 },
 "nbformat": 4,
 "nbformat_minor": 5
}
